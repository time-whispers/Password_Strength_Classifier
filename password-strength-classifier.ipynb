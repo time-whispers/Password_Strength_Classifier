{
 "cells": [
  {
   "cell_type": "markdown",
   "metadata": {},
   "source": [
    "# Password Strength Classifier\n"
   ]
  },
  {
   "cell_type": "code",
   "execution_count": null,
   "metadata": {},
   "outputs": [],
   "source": []
  },
  {
   "cell_type": "markdown",
   "metadata": {},
   "source": [
    "Importing the dependencies"
   ]
  },
  {
   "cell_type": "code",
   "execution_count": 1,
   "metadata": {},
   "outputs": [],
   "source": [
    "!pip install xgboost --upgrade --quiet"
   ]
  },
  {
   "cell_type": "code",
   "execution_count": 2,
   "metadata": {},
   "outputs": [],
   "source": [
    "import pandas as pd"
   ]
  },
  {
   "cell_type": "code",
   "execution_count": 3,
   "metadata": {},
   "outputs": [],
   "source": [
    "import numpy as np"
   ]
  },
  {
   "cell_type": "code",
   "execution_count": 4,
   "metadata": {},
   "outputs": [],
   "source": [
    "import seaborn as sns"
   ]
  },
  {
   "cell_type": "code",
   "execution_count": 5,
   "metadata": {},
   "outputs": [],
   "source": [
    "import matplotlib.pyplot as plt"
   ]
  },
  {
   "cell_type": "code",
   "execution_count": 6,
   "metadata": {},
   "outputs": [],
   "source": [
    "from sklearn.feature_extraction.text import TfidfVectorizer"
   ]
  },
  {
   "cell_type": "code",
   "execution_count": 7,
   "metadata": {},
   "outputs": [],
   "source": [
    "from sklearn.model_selection import train_test_split"
   ]
  },
  {
   "cell_type": "code",
   "execution_count": 8,
   "metadata": {},
   "outputs": [],
   "source": [
    "from sklearn.metrics import confusion_matrix,classification_report"
   ]
  },
  {
   "cell_type": "code",
   "execution_count": 9,
   "metadata": {},
   "outputs": [],
   "source": [
    "import warnings\n",
    "warnings.filterwarnings(\"ignore\")"
   ]
  },
  {
   "cell_type": "code",
   "execution_count": 10,
   "metadata": {},
   "outputs": [],
   "source": [
    "import random"
   ]
  },
  {
   "cell_type": "code",
   "execution_count": null,
   "metadata": {},
   "outputs": [],
   "source": []
  },
  {
   "cell_type": "code",
   "execution_count": 11,
   "metadata": {
    "collapsed": true
   },
   "outputs": [
    {
     "name": "stderr",
     "output_type": "stream",
     "text": [
      "b'Skipping line 2810: expected 2 fields, saw 5\\nSkipping line 4641: expected 2 fields, saw 5\\nSkipping line 7171: expected 2 fields, saw 5\\nSkipping line 11220: expected 2 fields, saw 5\\nSkipping line 13809: expected 2 fields, saw 5\\nSkipping line 14132: expected 2 fields, saw 5\\nSkipping line 14293: expected 2 fields, saw 5\\nSkipping line 14865: expected 2 fields, saw 5\\nSkipping line 17419: expected 2 fields, saw 5\\nSkipping line 22801: expected 2 fields, saw 5\\nSkipping line 25001: expected 2 fields, saw 5\\nSkipping line 26603: expected 2 fields, saw 5\\nSkipping line 26742: expected 2 fields, saw 5\\nSkipping line 29702: expected 2 fields, saw 5\\nSkipping line 32767: expected 2 fields, saw 5\\nSkipping line 32878: expected 2 fields, saw 5\\nSkipping line 35643: expected 2 fields, saw 5\\nSkipping line 36550: expected 2 fields, saw 5\\nSkipping line 38732: expected 2 fields, saw 5\\nSkipping line 40567: expected 2 fields, saw 5\\nSkipping line 40576: expected 2 fields, saw 5\\nSkipping line 41864: expected 2 fields, saw 5\\nSkipping line 46861: expected 2 fields, saw 5\\nSkipping line 47939: expected 2 fields, saw 5\\nSkipping line 48628: expected 2 fields, saw 5\\nSkipping line 48908: expected 2 fields, saw 5\\nSkipping line 57582: expected 2 fields, saw 5\\nSkipping line 58782: expected 2 fields, saw 5\\nSkipping line 58984: expected 2 fields, saw 5\\nSkipping line 61518: expected 2 fields, saw 5\\nSkipping line 63451: expected 2 fields, saw 5\\nSkipping line 68141: expected 2 fields, saw 5\\nSkipping line 72083: expected 2 fields, saw 5\\nSkipping line 74027: expected 2 fields, saw 5\\nSkipping line 77811: expected 2 fields, saw 5\\nSkipping line 83958: expected 2 fields, saw 5\\nSkipping line 85295: expected 2 fields, saw 5\\nSkipping line 88665: expected 2 fields, saw 5\\nSkipping line 89198: expected 2 fields, saw 5\\nSkipping line 92499: expected 2 fields, saw 5\\nSkipping line 92751: expected 2 fields, saw 5\\nSkipping line 93689: expected 2 fields, saw 5\\nSkipping line 94776: expected 2 fields, saw 5\\nSkipping line 97334: expected 2 fields, saw 5\\nSkipping line 102316: expected 2 fields, saw 5\\nSkipping line 103421: expected 2 fields, saw 5\\nSkipping line 106872: expected 2 fields, saw 5\\nSkipping line 109363: expected 2 fields, saw 5\\nSkipping line 110117: expected 2 fields, saw 5\\nSkipping line 110465: expected 2 fields, saw 5\\nSkipping line 113843: expected 2 fields, saw 5\\nSkipping line 115634: expected 2 fields, saw 5\\nSkipping line 121518: expected 2 fields, saw 5\\nSkipping line 123692: expected 2 fields, saw 5\\nSkipping line 124708: expected 2 fields, saw 5\\nSkipping line 129608: expected 2 fields, saw 5\\nSkipping line 133176: expected 2 fields, saw 5\\nSkipping line 135532: expected 2 fields, saw 5\\nSkipping line 138042: expected 2 fields, saw 5\\nSkipping line 139485: expected 2 fields, saw 5\\nSkipping line 140401: expected 2 fields, saw 5\\nSkipping line 144093: expected 2 fields, saw 5\\nSkipping line 149850: expected 2 fields, saw 5\\nSkipping line 151831: expected 2 fields, saw 5\\nSkipping line 158014: expected 2 fields, saw 5\\nSkipping line 162047: expected 2 fields, saw 5\\nSkipping line 164515: expected 2 fields, saw 5\\nSkipping line 170313: expected 2 fields, saw 5\\nSkipping line 171325: expected 2 fields, saw 5\\nSkipping line 171424: expected 2 fields, saw 5\\nSkipping line 175920: expected 2 fields, saw 5\\nSkipping line 176210: expected 2 fields, saw 5\\nSkipping line 183603: expected 2 fields, saw 5\\nSkipping line 190264: expected 2 fields, saw 5\\nSkipping line 191683: expected 2 fields, saw 5\\nSkipping line 191988: expected 2 fields, saw 5\\nSkipping line 195450: expected 2 fields, saw 5\\nSkipping line 195754: expected 2 fields, saw 5\\nSkipping line 197124: expected 2 fields, saw 5\\nSkipping line 199263: expected 2 fields, saw 5\\nSkipping line 202603: expected 2 fields, saw 5\\nSkipping line 209960: expected 2 fields, saw 5\\nSkipping line 213218: expected 2 fields, saw 5\\nSkipping line 217060: expected 2 fields, saw 5\\nSkipping line 220121: expected 2 fields, saw 5\\nSkipping line 223518: expected 2 fields, saw 5\\nSkipping line 226293: expected 2 fields, saw 5\\nSkipping line 227035: expected 2 fields, saw 7\\nSkipping line 227341: expected 2 fields, saw 5\\nSkipping line 227808: expected 2 fields, saw 5\\nSkipping line 228516: expected 2 fields, saw 5\\nSkipping line 228733: expected 2 fields, saw 5\\nSkipping line 232043: expected 2 fields, saw 5\\nSkipping line 232426: expected 2 fields, saw 5\\nSkipping line 234490: expected 2 fields, saw 5\\nSkipping line 239626: expected 2 fields, saw 5\\nSkipping line 240461: expected 2 fields, saw 5\\nSkipping line 244518: expected 2 fields, saw 5\\nSkipping line 245395: expected 2 fields, saw 5\\nSkipping line 246168: expected 2 fields, saw 5\\nSkipping line 246655: expected 2 fields, saw 5\\nSkipping line 246752: expected 2 fields, saw 5\\nSkipping line 247189: expected 2 fields, saw 5\\nSkipping line 250276: expected 2 fields, saw 5\\nSkipping line 255327: expected 2 fields, saw 5\\nSkipping line 257094: expected 2 fields, saw 5\\n'\n",
      "b'Skipping line 264626: expected 2 fields, saw 5\\nSkipping line 265028: expected 2 fields, saw 5\\nSkipping line 269150: expected 2 fields, saw 5\\nSkipping line 271360: expected 2 fields, saw 5\\nSkipping line 273975: expected 2 fields, saw 5\\nSkipping line 274742: expected 2 fields, saw 5\\nSkipping line 276227: expected 2 fields, saw 5\\nSkipping line 279807: expected 2 fields, saw 5\\nSkipping line 283425: expected 2 fields, saw 5\\nSkipping line 287468: expected 2 fields, saw 5\\nSkipping line 292995: expected 2 fields, saw 5\\nSkipping line 293496: expected 2 fields, saw 5\\nSkipping line 293735: expected 2 fields, saw 5\\nSkipping line 295060: expected 2 fields, saw 5\\nSkipping line 296643: expected 2 fields, saw 5\\nSkipping line 296848: expected 2 fields, saw 5\\nSkipping line 308926: expected 2 fields, saw 5\\nSkipping line 310360: expected 2 fields, saw 5\\nSkipping line 317004: expected 2 fields, saw 5\\nSkipping line 318207: expected 2 fields, saw 5\\nSkipping line 331783: expected 2 fields, saw 5\\nSkipping line 333864: expected 2 fields, saw 5\\nSkipping line 335958: expected 2 fields, saw 5\\nSkipping line 336290: expected 2 fields, saw 5\\nSkipping line 343526: expected 2 fields, saw 5\\nSkipping line 343857: expected 2 fields, saw 5\\nSkipping line 344059: expected 2 fields, saw 5\\nSkipping line 348691: expected 2 fields, saw 5\\nSkipping line 353446: expected 2 fields, saw 5\\nSkipping line 357073: expected 2 fields, saw 5\\nSkipping line 359753: expected 2 fields, saw 5\\nSkipping line 359974: expected 2 fields, saw 5\\nSkipping line 366534: expected 2 fields, saw 5\\nSkipping line 369514: expected 2 fields, saw 5\\nSkipping line 377759: expected 2 fields, saw 5\\nSkipping line 379327: expected 2 fields, saw 5\\nSkipping line 380769: expected 2 fields, saw 5\\nSkipping line 381073: expected 2 fields, saw 5\\nSkipping line 381489: expected 2 fields, saw 5\\nSkipping line 386304: expected 2 fields, saw 5\\nSkipping line 387635: expected 2 fields, saw 5\\nSkipping line 389613: expected 2 fields, saw 5\\nSkipping line 392604: expected 2 fields, saw 5\\nSkipping line 393184: expected 2 fields, saw 5\\nSkipping line 395530: expected 2 fields, saw 5\\nSkipping line 396939: expected 2 fields, saw 5\\nSkipping line 397385: expected 2 fields, saw 5\\nSkipping line 397509: expected 2 fields, saw 5\\nSkipping line 402902: expected 2 fields, saw 5\\nSkipping line 405187: expected 2 fields, saw 5\\nSkipping line 408412: expected 2 fields, saw 5\\nSkipping line 419423: expected 2 fields, saw 5\\nSkipping line 420962: expected 2 fields, saw 5\\nSkipping line 425965: expected 2 fields, saw 5\\nSkipping line 427496: expected 2 fields, saw 5\\nSkipping line 438881: expected 2 fields, saw 5\\nSkipping line 439776: expected 2 fields, saw 5\\nSkipping line 440345: expected 2 fields, saw 5\\nSkipping line 445507: expected 2 fields, saw 5\\nSkipping line 445548: expected 2 fields, saw 5\\nSkipping line 447184: expected 2 fields, saw 5\\nSkipping line 448603: expected 2 fields, saw 5\\nSkipping line 451732: expected 2 fields, saw 5\\nSkipping line 458249: expected 2 fields, saw 5\\nSkipping line 460274: expected 2 fields, saw 5\\nSkipping line 467630: expected 2 fields, saw 5\\nSkipping line 473961: expected 2 fields, saw 5\\nSkipping line 476281: expected 2 fields, saw 5\\nSkipping line 478010: expected 2 fields, saw 5\\nSkipping line 478322: expected 2 fields, saw 5\\nSkipping line 479999: expected 2 fields, saw 5\\nSkipping line 480898: expected 2 fields, saw 5\\nSkipping line 481688: expected 2 fields, saw 5\\nSkipping line 485193: expected 2 fields, saw 5\\nSkipping line 485519: expected 2 fields, saw 5\\nSkipping line 486000: expected 2 fields, saw 5\\nSkipping line 489063: expected 2 fields, saw 5\\nSkipping line 494525: expected 2 fields, saw 5\\nSkipping line 495009: expected 2 fields, saw 5\\nSkipping line 501954: expected 2 fields, saw 5\\nSkipping line 508035: expected 2 fields, saw 5\\nSkipping line 508828: expected 2 fields, saw 5\\nSkipping line 509833: expected 2 fields, saw 5\\nSkipping line 510410: expected 2 fields, saw 5\\nSkipping line 518229: expected 2 fields, saw 5\\nSkipping line 520302: expected 2 fields, saw 5\\nSkipping line 520340: expected 2 fields, saw 5\\n'\n"
     ]
    },
    {
     "name": "stderr",
     "output_type": "stream",
     "text": [
      "b'Skipping line 525174: expected 2 fields, saw 5\\nSkipping line 526251: expected 2 fields, saw 5\\nSkipping line 529611: expected 2 fields, saw 5\\nSkipping line 531398: expected 2 fields, saw 5\\nSkipping line 534146: expected 2 fields, saw 5\\nSkipping line 544954: expected 2 fields, saw 5\\nSkipping line 553002: expected 2 fields, saw 5\\nSkipping line 553883: expected 2 fields, saw 5\\nSkipping line 553887: expected 2 fields, saw 5\\nSkipping line 553915: expected 2 fields, saw 5\\nSkipping line 554172: expected 2 fields, saw 5\\nSkipping line 563534: expected 2 fields, saw 5\\nSkipping line 565191: expected 2 fields, saw 5\\nSkipping line 574108: expected 2 fields, saw 5\\nSkipping line 574412: expected 2 fields, saw 5\\nSkipping line 575985: expected 2 fields, saw 5\\nSkipping line 580091: expected 2 fields, saw 5\\nSkipping line 582682: expected 2 fields, saw 5\\nSkipping line 585885: expected 2 fields, saw 5\\nSkipping line 590171: expected 2 fields, saw 5\\nSkipping line 591924: expected 2 fields, saw 5\\nSkipping line 592515: expected 2 fields, saw 5\\nSkipping line 593888: expected 2 fields, saw 5\\nSkipping line 596245: expected 2 fields, saw 5\\nSkipping line 607344: expected 2 fields, saw 5\\nSkipping line 607633: expected 2 fields, saw 5\\nSkipping line 610939: expected 2 fields, saw 5\\nSkipping line 613638: expected 2 fields, saw 5\\nSkipping line 615643: expected 2 fields, saw 5\\nSkipping line 615901: expected 2 fields, saw 5\\nSkipping line 617389: expected 2 fields, saw 5\\nSkipping line 634641: expected 2 fields, saw 5\\nSkipping line 635755: expected 2 fields, saw 5\\nSkipping line 646243: expected 2 fields, saw 5\\nSkipping line 647165: expected 2 fields, saw 5\\nSkipping line 648610: expected 2 fields, saw 5\\nSkipping line 648772: expected 2 fields, saw 5\\nSkipping line 651833: expected 2 fields, saw 5\\nSkipping line 653663: expected 2 fields, saw 5\\nSkipping line 656233: expected 2 fields, saw 5\\nSkipping line 656694: expected 2 fields, saw 5\\nSkipping line 659783: expected 2 fields, saw 5\\nSkipping line 660478: expected 2 fields, saw 5\\nSkipping line 661133: expected 2 fields, saw 5\\nSkipping line 661736: expected 2 fields, saw 5\\nSkipping line 669827: expected 2 fields, saw 5\\n'\n"
     ]
    }
   ],
   "source": [
    "dataset = pd.read_csv(\"data.csv\", error_bad_lines = False)"
   ]
  },
  {
   "cell_type": "code",
   "execution_count": null,
   "metadata": {},
   "outputs": [],
   "source": []
  },
  {
   "cell_type": "code",
   "execution_count": 12,
   "metadata": {
    "scrolled": true
   },
   "outputs": [
    {
     "data": {
      "text/html": [
       "<div>\n",
       "<style scoped>\n",
       "    .dataframe tbody tr th:only-of-type {\n",
       "        vertical-align: middle;\n",
       "    }\n",
       "\n",
       "    .dataframe tbody tr th {\n",
       "        vertical-align: top;\n",
       "    }\n",
       "\n",
       "    .dataframe thead th {\n",
       "        text-align: right;\n",
       "    }\n",
       "</style>\n",
       "<table border=\"1\" class=\"dataframe\">\n",
       "  <thead>\n",
       "    <tr style=\"text-align: right;\">\n",
       "      <th></th>\n",
       "      <th>password</th>\n",
       "      <th>strength</th>\n",
       "    </tr>\n",
       "  </thead>\n",
       "  <tbody>\n",
       "    <tr>\n",
       "      <th>0</th>\n",
       "      <td>kzde5577</td>\n",
       "      <td>1</td>\n",
       "    </tr>\n",
       "    <tr>\n",
       "      <th>1</th>\n",
       "      <td>kino3434</td>\n",
       "      <td>1</td>\n",
       "    </tr>\n",
       "    <tr>\n",
       "      <th>2</th>\n",
       "      <td>visi7k1yr</td>\n",
       "      <td>1</td>\n",
       "    </tr>\n",
       "    <tr>\n",
       "      <th>3</th>\n",
       "      <td>megzy123</td>\n",
       "      <td>1</td>\n",
       "    </tr>\n",
       "    <tr>\n",
       "      <th>4</th>\n",
       "      <td>lamborghin1</td>\n",
       "      <td>1</td>\n",
       "    </tr>\n",
       "  </tbody>\n",
       "</table>\n",
       "</div>"
      ],
      "text/plain": [
       "      password  strength\n",
       "0     kzde5577         1\n",
       "1     kino3434         1\n",
       "2    visi7k1yr         1\n",
       "3     megzy123         1\n",
       "4  lamborghin1         1"
      ]
     },
     "execution_count": 12,
     "metadata": {},
     "output_type": "execute_result"
    }
   ],
   "source": [
    "# Lets check the head of our data\n",
    "\n",
    "dataset.head()"
   ]
  },
  {
   "cell_type": "code",
   "execution_count": null,
   "metadata": {},
   "outputs": [],
   "source": []
  },
  {
   "cell_type": "code",
   "execution_count": 13,
   "metadata": {},
   "outputs": [
    {
     "data": {
      "text/plain": [
       "(669640, 2)"
      ]
     },
     "execution_count": 13,
     "metadata": {},
     "output_type": "execute_result"
    }
   ],
   "source": [
    "# Lets check the shape of data\n",
    "\n",
    "dataset.shape"
   ]
  },
  {
   "cell_type": "code",
   "execution_count": null,
   "metadata": {},
   "outputs": [],
   "source": []
  },
  {
   "cell_type": "code",
   "execution_count": 14,
   "metadata": {},
   "outputs": [
    {
     "data": {
      "text/plain": [
       "array([1, 2, 0])"
      ]
     },
     "execution_count": 14,
     "metadata": {},
     "output_type": "execute_result"
    }
   ],
   "source": [
    "# Checking the unique values in strength\n",
    "\n",
    "dataset[\"strength\"].unique()"
   ]
  },
  {
   "cell_type": "code",
   "execution_count": null,
   "metadata": {},
   "outputs": [],
   "source": []
  },
  {
   "cell_type": "markdown",
   "metadata": {},
   "source": [
    "## There are only 3 classes in strength\n",
    "### 0->Password is weak\n",
    "### 1->Normal password\n",
    "### 2->Strong password"
   ]
  },
  {
   "cell_type": "code",
   "execution_count": null,
   "metadata": {},
   "outputs": [],
   "source": []
  },
  {
   "cell_type": "code",
   "execution_count": 15,
   "metadata": {},
   "outputs": [
    {
     "name": "stdout",
     "output_type": "stream",
     "text": [
      "<class 'pandas.core.frame.DataFrame'>\n",
      "RangeIndex: 669640 entries, 0 to 669639\n",
      "Data columns (total 2 columns):\n",
      " #   Column    Non-Null Count   Dtype \n",
      "---  ------    --------------   ----- \n",
      " 0   password  669639 non-null  object\n",
      " 1   strength  669640 non-null  int64 \n",
      "dtypes: int64(1), object(1)\n",
      "memory usage: 10.2+ MB\n"
     ]
    }
   ],
   "source": [
    "dataset.info()"
   ]
  },
  {
   "cell_type": "code",
   "execution_count": null,
   "metadata": {},
   "outputs": [],
   "source": []
  },
  {
   "cell_type": "code",
   "execution_count": 16,
   "metadata": {},
   "outputs": [
    {
     "data": {
      "text/plain": [
       "password    1\n",
       "strength    0\n",
       "dtype: int64"
      ]
     },
     "execution_count": 16,
     "metadata": {},
     "output_type": "execute_result"
    }
   ],
   "source": [
    "# Lets see if there are any null values in dataset\n",
    "\n",
    "dataset.isnull().sum()"
   ]
  },
  {
   "cell_type": "markdown",
   "metadata": {},
   "source": [
    "There is 1 null value in password"
   ]
  },
  {
   "cell_type": "code",
   "execution_count": null,
   "metadata": {},
   "outputs": [],
   "source": []
  },
  {
   "cell_type": "code",
   "execution_count": 17,
   "metadata": {},
   "outputs": [
    {
     "data": {
      "text/html": [
       "<div>\n",
       "<style scoped>\n",
       "    .dataframe tbody tr th:only-of-type {\n",
       "        vertical-align: middle;\n",
       "    }\n",
       "\n",
       "    .dataframe tbody tr th {\n",
       "        vertical-align: top;\n",
       "    }\n",
       "\n",
       "    .dataframe thead th {\n",
       "        text-align: right;\n",
       "    }\n",
       "</style>\n",
       "<table border=\"1\" class=\"dataframe\">\n",
       "  <thead>\n",
       "    <tr style=\"text-align: right;\">\n",
       "      <th></th>\n",
       "      <th>password</th>\n",
       "      <th>strength</th>\n",
       "    </tr>\n",
       "  </thead>\n",
       "  <tbody>\n",
       "    <tr>\n",
       "      <th>367579</th>\n",
       "      <td>NaN</td>\n",
       "      <td>0</td>\n",
       "    </tr>\n",
       "  </tbody>\n",
       "</table>\n",
       "</div>"
      ],
      "text/plain": [
       "       password  strength\n",
       "367579      NaN         0"
      ]
     },
     "execution_count": 17,
     "metadata": {},
     "output_type": "execute_result"
    }
   ],
   "source": [
    "# Lets check the record where our value is null\n",
    "\n",
    "dataset[dataset[\"password\"].isnull()]"
   ]
  },
  {
   "cell_type": "markdown",
   "metadata": {},
   "source": [
    "\n",
    "As there is only 1 record, so we can drop our null values"
   ]
  },
  {
   "cell_type": "code",
   "execution_count": null,
   "metadata": {},
   "outputs": [],
   "source": []
  },
  {
   "cell_type": "code",
   "execution_count": 18,
   "metadata": {},
   "outputs": [],
   "source": [
    "dataset.dropna(inplace=True)"
   ]
  },
  {
   "cell_type": "code",
   "execution_count": 19,
   "metadata": {},
   "outputs": [
    {
     "data": {
      "text/plain": [
       "<AxesSubplot:xlabel='strength', ylabel='count'>"
      ]
     },
     "execution_count": 19,
     "metadata": {},
     "output_type": "execute_result"
    },
    {
     "data": {
      "image/png": "[encoded data removed]",
      "text/plain": [
       "<Figure size 576x576 with 1 Axes>"
      ]
     },
     "metadata": {
      "needs_background": "light"
     },
     "output_type": "display_data"
    }
   ],
   "source": [
    "# Using seaborn\n",
    "\n",
    "plt.figure(figsize=(8,8))\n",
    "sns.countplot(dataset.strength)"
   ]
  },
  {
   "cell_type": "markdown",
   "metadata": {},
   "source": [
    "As we can see count of class 1 is every high compared to class 0 and class 2"
   ]
  },
  {
   "cell_type": "code",
   "execution_count": null,
   "metadata": {},
   "outputs": [],
   "source": []
  },
  {
   "cell_type": "code",
   "execution_count": 20,
   "metadata": {},
   "outputs": [
    {
     "data": {
      "text/plain": [
       "array([['kzde5577', 1],\n",
       "       ['kino3434', 1],\n",
       "       ['visi7k1yr', 1],\n",
       "       ...,\n",
       "       ['184520socram', 1],\n",
       "       ['marken22a', 1],\n",
       "       ['fxx4pw4g', 1]], dtype=object)"
      ]
     },
     "execution_count": 20,
     "metadata": {},
     "output_type": "execute_result"
    }
   ],
   "source": [
    "# Now, I'll convert my data to array\n",
    "\n",
    "password_ = np.array(dataset)\n",
    "password_"
   ]
  },
  {
   "cell_type": "code",
   "execution_count": 21,
   "metadata": {},
   "outputs": [
    {
     "data": {
      "text/plain": [
       "numpy.ndarray"
      ]
     },
     "execution_count": 21,
     "metadata": {},
     "output_type": "execute_result"
    }
   ],
   "source": [
    "type(password_)"
   ]
  },
  {
   "cell_type": "code",
   "execution_count": 22,
   "metadata": {},
   "outputs": [
    {
     "data": {
      "text/plain": [
       "array(['kzde5577', 1], dtype=object)"
      ]
     },
     "execution_count": 22,
     "metadata": {},
     "output_type": "execute_result"
    }
   ],
   "source": [
    "password_[0]"
   ]
  },
  {
   "cell_type": "code",
   "execution_count": 23,
   "metadata": {},
   "outputs": [
    {
     "data": {
      "text/plain": [
       "'kzde5577'"
      ]
     },
     "execution_count": 23,
     "metadata": {},
     "output_type": "execute_result"
    }
   ],
   "source": [
    "# Extracting the password from data\n",
    "\n",
    "password_[0][0]"
   ]
  },
  {
   "cell_type": "code",
   "execution_count": null,
   "metadata": {},
   "outputs": [],
   "source": []
  },
  {
   "cell_type": "code",
   "execution_count": 24,
   "metadata": {},
   "outputs": [],
   "source": [
    "# What Shuffling does is that it makes the model robust.\n",
    "\n",
    "random.shuffle(password_)"
   ]
  },
  {
   "cell_type": "code",
   "execution_count": 25,
   "metadata": {},
   "outputs": [
    {
     "data": {
      "text/plain": [
       "array([['kzde5577', 1],\n",
       "       ['kino3434', 1],\n",
       "       ['kzde5577', 1],\n",
       "       ...,\n",
       "       ['e9ai0eo', 0],\n",
       "       ['pupinas123', 1],\n",
       "       ['byqaxol241', 1]], dtype=object)"
      ]
     },
     "execution_count": 25,
     "metadata": {},
     "output_type": "execute_result"
    }
   ],
   "source": [
    "password_"
   ]
  },
  {
   "cell_type": "code",
   "execution_count": null,
   "metadata": {},
   "outputs": [],
   "source": []
  },
  {
   "cell_type": "code",
   "execution_count": 26,
   "metadata": {},
   "outputs": [],
   "source": [
    "# Creating a Dependant and Independant feature\n",
    "\n",
    "X = [passwords[0] for passwords in password_]\n",
    "\n",
    "y = [passwords[1] for passwords in password_]"
   ]
  },
  {
   "cell_type": "code",
   "execution_count": 27,
   "metadata": {
    "collapsed": true
   },
   "outputs": [
    {
     "data": {
      "text/plain": [
       "['kzde5577',\n",
       " 'kino3434',\n",
       " 'kzde5577',\n",
       " 'kino3434',\n",
       " 'kzde5577',\n",
       " 'lamborghin1',\n",
       " 'u6c8vhow',\n",
       " 'u6c8vhow',\n",
       " 'kzde5577',\n",
       " 'lamborghin1',\n",
       " 'visi7k1yr',\n",
       " 'universe2908',\n",
       " 'AVYq1lDE4MgAZfNt',\n",
       " 'v1118714',\n",
       " 'WUt9IZzE0OQ7PkNE',\n",
       " 'g067057895',\n",
       " 'lamborghin1',\n",
       " 'asv5o9yu',\n",
       " '6975038lp',\n",
       " 'AVYq1lDE4MgAZfNt',\n",
       " 'jerusalem393',\n",
       " 'WUt9IZzE0OQ7PkNE',\n",
       " 'idofo673',\n",
       " 'jerusalem393',\n",
       " 'v1118714',\n",
       " 'lamborghin1',\n",
       " 'elyass15@ajilent-ci',\n",
       " 'kino3434',\n",
       " 'as326159',\n",
       " '0169395484a',\n",
       " 'v1118714',\n",
       " 'v1118714',\n",
       " 'megzy123',\n",
       " 'intel1',\n",
       " '6975038lp',\n",
       " 'jerusalem393',\n",
       " 'gaymaids1',\n",
       " '0169395484a',\n",
       " 'cigicigi123',\n",
       " 'gaymaids1',\n",
       " 'idofo673',\n",
       " 'lamborghin1',\n",
       " 'jytifok873',\n",
       " 'elyass15@ajilent-ci',\n",
       " 'megzy123',\n",
       " '52558000aaa',\n",
       " 'megzy123',\n",
       " 'v1118714',\n",
       " 'asv5o9yu',\n",
       " 'ejeko677',\n",
       " 'megzy123',\n",
       " 'faranumar91',\n",
       " 'kswa2mrv',\n",
       " 'asgaliu11',\n",
       " 'fahad123',\n",
       " 'asv5o9yu',\n",
       " 'trabajonet9',\n",
       " 'intel1',\n",
       " 'prisonbreak1',\n",
       " 'calcifer32',\n",
       " 'exitos2009',\n",
       " 'bozoxik602',\n",
       " 'ejeko677',\n",
       " 'ejeko677',\n",
       " 'prisonbreak1',\n",
       " 'WUt9IZzE0OQ7PkNE',\n",
       " 'khmer100.03278&?><Mnb',\n",
       " 'd04m11',\n",
       " 'b4NbTxDEyNgG141J',\n",
       " 'yitbos77',\n",
       " 'kswa2mrv',\n",
       " 'faranumar91',\n",
       " 'pHyqueDIyNQ8vmhb',\n",
       " '6975038lp',\n",
       " 'sknq7m0',\n",
       " 'b4NbTxDEyNgG141J',\n",
       " 'faranumar91',\n",
       " 'fahad123',\n",
       " 'ejeko677',\n",
       " '283671gus',\n",
       " 'prisonbreak1',\n",
       " 'universe2908',\n",
       " 'idofo673',\n",
       " 'ejeko677',\n",
       " 'asv5o9yu',\n",
       " '6975038lp',\n",
       " 'cesarmaio1',\n",
       " 'snolyuj04',\n",
       " 'faranumar91',\n",
       " 'kzde5577',\n",
       " 'WUt9IZzE0OQ7PkNE',\n",
       " 'juliana19',\n",
       " 'khmer100.03278&?><Mnb',\n",
       " '6975038lp',\n",
       " '6975038lp',\n",
       " 'memjan123',\n",
       " 'hpqkoxsn5',\n",
       " 'jerusalem393',\n",
       " 'poseidon2011',\n",
       " 'intel1',\n",
       " 'universe2908',\n",
       " 'jerusalem393',\n",
       " '838188linh',\n",
       " 'v1118714',\n",
       " 'a2531106',\n",
       " 'alimagik1',\n",
       " 'jalal123456',\n",
       " 'il0vey0u',\n",
       " 'lamborghin1',\n",
       " 'gaymaids1',\n",
       " 'patri1973',\n",
       " '2akira2',\n",
       " 'yu4cmn',\n",
       " 'kzde5577',\n",
       " 'go7kew7a2po',\n",
       " 'WUt9IZzE0OQ7PkNE',\n",
       " 'mickael12',\n",
       " 'obstacle25',\n",
       " 'k1k2k3k4k5k6',\n",
       " 'TyWM72UNEex8Q8Y',\n",
       " 'd04m11',\n",
       " 'visi7k1yr',\n",
       " 'ok>bdk',\n",
       " 'asgaliu11',\n",
       " 'sbl571017',\n",
       " 'j09000',\n",
       " 'visi7k1yr',\n",
       " 'gkrqjs6',\n",
       " 'z3ro1sm',\n",
       " 'yk530mg8',\n",
       " '52558000aaa',\n",
       " 'visi7k1yr',\n",
       " 'yu4cmn',\n",
       " 'gill02',\n",
       " 'sbl571017',\n",
       " 'd04m11',\n",
       " 'matiofox08',\n",
       " 'TyWM72UNEex8Q8Y',\n",
       " 'visi7k1yr',\n",
       " 'vehat387',\n",
       " '12345yolanda',\n",
       " 'sknq7m0',\n",
       " 'jUV4dSDQwNwPpA36',\n",
       " 'ldteugao6',\n",
       " 'hpqkoxsn5',\n",
       " 'ns2b0727',\n",
       " 'farrukhcse12',\n",
       " 'elonex24',\n",
       " 'teemteem97',\n",
       " 'jalal123456',\n",
       " 'prisonbreak1',\n",
       " 's9830950044',\n",
       " 'RPFUOUDQwMwVW0AS',\n",
       " 'asgaliu11',\n",
       " 'g3rappa',\n",
       " '612035180tok',\n",
       " 'farrukhcse12',\n",
       " 'kswa2mrv',\n",
       " 'a2531106',\n",
       " 'gdfn76',\n",
       " 'juliel009',\n",
       " 'yitbos77',\n",
       " '26522876p',\n",
       " 'denise18',\n",
       " 'czuodhj972',\n",
       " 'b4NbTxDEyNgG141J',\n",
       " 'universe2908',\n",
       " 'xiau5ff',\n",
       " 'yllime123',\n",
       " 'meopvywk628',\n",
       " 'snolyuj04',\n",
       " 'bozoxik602',\n",
       " 'b4NbTxDEyNgG141J',\n",
       " 'exitos2009',\n",
       " 'b4NbTxDEyNgG141J',\n",
       " 'aquhih220',\n",
       " 'gkrqjs6',\n",
       " 'openup12',\n",
       " 'tia150979',\n",
       " 'k1k2k3k4k5k6',\n",
       " '26522876p',\n",
       " 'p2share',\n",
       " 'ns2b0727',\n",
       " 's9830950044',\n",
       " 'kzde5577',\n",
       " 'zoobike04',\n",
       " 'intel1',\n",
       " 'sknq7m0',\n",
       " 'yuri110995',\n",
       " 'patri1973',\n",
       " 'potatobus150',\n",
       " '5gzj5uf',\n",
       " 'jonothepoop1',\n",
       " 'b4NbTxDEyNgG141J',\n",
       " 'gkrqjs6',\n",
       " 'marita1',\n",
       " '6tequila6',\n",
       " 'AVYq1lDE4MgAZfNt',\n",
       " 'gdfn76',\n",
       " 'woon12',\n",
       " 'ejeko677',\n",
       " 'wibi182d',\n",
       " 'asv5o9yu',\n",
       " 'olmaz.',\n",
       " 'warriors08',\n",
       " 'hpqkoxsn5',\n",
       " 'obstacle25',\n",
       " '52558000aaa',\n",
       " 'nello11',\n",
       " 'gkrqjs6',\n",
       " 'damyvo114',\n",
       " 'bgrvl80',\n",
       " 'qn5xpg3k00',\n",
       " 'jerusalem393',\n",
       " 'denise18',\n",
       " 'TyWM72UNEex8Q8Y',\n",
       " 'teemteem97',\n",
       " 'kunyukbabi69',\n",
       " 'tin030201',\n",
       " 'gkrqjs6',\n",
       " 'kunyukbabi69',\n",
       " 'RqsuUsDYxNgr8T40',\n",
       " 'czuodhj972',\n",
       " '2yz4ewwg',\n",
       " 'yu4cmn',\n",
       " 'omakiva153',\n",
       " 'q0pv0fk',\n",
       " '20010509wang',\n",
       " 's9830950044',\n",
       " 'jalingo1',\n",
       " 'planes123',\n",
       " 'ginger972',\n",
       " 'kzde5577',\n",
       " 'gdfn76',\n",
       " 'wibi182d',\n",
       " 'poseidon2011',\n",
       " '2021848709.',\n",
       " 'moken7',\n",
       " 'yllime123',\n",
       " '20010509wang',\n",
       " '10Erjrlmebup0n',\n",
       " 'vgnfs495vp',\n",
       " 'puegwajy416',\n",
       " 'meriton23',\n",
       " 'cigicigi123',\n",
       " 'elyass15@ajilent-ci',\n",
       " 'kVczcljg4OA25Aeb',\n",
       " 'snolyuj04',\n",
       " '10Erjrlmebup0n',\n",
       " 'yitbos77',\n",
       " 'meriton23',\n",
       " 'vgnfs495vp',\n",
       " 'gaymaids1',\n",
       " 'pato221182',\n",
       " '6975038lp',\n",
       " 'puegwajy416',\n",
       " 'schalke04',\n",
       " 'd04m11',\n",
       " 'idofo673',\n",
       " 'fahad123',\n",
       " 'kVczcljg4OA25Aeb',\n",
       " 'gaymaids1',\n",
       " 'klara-tershina3H',\n",
       " 'mohantra1',\n",
       " '10Erjrlmebup0n',\n",
       " 'elonex24',\n",
       " 'prisonbreak1',\n",
       " 'hosna1368',\n",
       " 'fnmsdha476',\n",
       " 'kzde5577',\n",
       " 'v10rica',\n",
       " 'e667794c1d',\n",
       " 'pHyqueDIyNQ8vmhb',\n",
       " 'wxS2ztDk4OATjBfI',\n",
       " 'sbaUsoTA1OAzuevI',\n",
       " 'polo2014',\n",
       " 'nello11',\n",
       " 'teste10',\n",
       " 'bencike7',\n",
       " '1597535youssi',\n",
       " 'rLLh4WDQ2OAWbDO5',\n",
       " 'p@sslng2diword',\n",
       " 'koabcswzt3',\n",
       " 'RqsuUsDYxNgr8T40',\n",
       " 'intel1',\n",
       " 'hisnipes1',\n",
       " 'fnmsdha476',\n",
       " 'damyvo114',\n",
       " 'wisal1234',\n",
       " 'kikeq102',\n",
       " 'yllime123',\n",
       " '123net123',\n",
       " '746xitEGiqObog',\n",
       " 'tucagu356',\n",
       " 'igejasy712',\n",
       " 'y0unus',\n",
       " 'zgmfnwuq25',\n",
       " 'fahad123',\n",
       " 'autan88',\n",
       " 'damyvo114',\n",
       " 'a110804032',\n",
       " '2yz4ewwg',\n",
       " 'sbaUsoTA1OAzuevI',\n",
       " '1katertje',\n",
       " 'moimoimoi9',\n",
       " 'moken7',\n",
       " 'tin030201',\n",
       " 'gozv3e5',\n",
       " 'abizar08',\n",
       " 'hpqkoxsn5',\n",
       " 'ppnyadam09',\n",
       " '20010509wang',\n",
       " 'megzy123',\n",
       " 'moken7',\n",
       " 'pablo321159',\n",
       " 'sbaUsoTA1OAzuevI',\n",
       " '6tequila6',\n",
       " 'sbl571017',\n",
       " '2akira2',\n",
       " '123477889a',\n",
       " '4osxw4r',\n",
       " 'bellsuki1',\n",
       " 'Iamthelegend1!',\n",
       " 'ram@!sita15392',\n",
       " 'aslpls2009',\n",
       " 'gtlek',\n",
       " 'alchimie79',\n",
       " 'p@sslng2diword',\n",
       " 'poseidon2011',\n",
       " '2021848709.',\n",
       " 'hqh2eYjQxOQPYIsA',\n",
       " 'pablo321159',\n",
       " 'kswa2mrv',\n",
       " 'megzy123',\n",
       " 'kVczcljg4OA25Aeb',\n",
       " 'znbl5tj1',\n",
       " 'bugatti01',\n",
       " '838188linh',\n",
       " 'v1118714',\n",
       " 'weicat12',\n",
       " 'e667794c1d',\n",
       " 'g3rappa',\n",
       " 'AS0130066',\n",
       " 'y0unus',\n",
       " '746xitEGiqObog',\n",
       " 'aosmaxd0',\n",
       " 'webstudio8',\n",
       " 'lzhzad1989',\n",
       " 'bgrvl80',\n",
       " 'rogyh820',\n",
       " 'lzhzad1989',\n",
       " 'obstacle25',\n",
       " 'IRZA98',\n",
       " 'portales1',\n",
       " 'kitty555',\n",
       " 'kyxvufl37',\n",
       " 'ebacuro434',\n",
       " 'khaled12',\n",
       " 'beijing168',\n",
       " 'x0004534',\n",
       " 'khmer100.03278&?><Mnb',\n",
       " 'oioo9og',\n",
       " 'teemteem97',\n",
       " 'kyodai666',\n",
       " 'x0004534',\n",
       " 'wisal1234',\n",
       " 'b4NbTxDEyNgG141J',\n",
       " 'clave08',\n",
       " 'pablo321159',\n",
       " 'josue12',\n",
       " 'ram@!sita15392',\n",
       " 'kitty555',\n",
       " 'teste10',\n",
       " 'u03kz6ez',\n",
       " 'ekufite742',\n",
       " 'v10rica',\n",
       " 'aosmaxd0',\n",
       " '2yz4ewwg',\n",
       " 'sysoja794',\n",
       " 'potatobus150',\n",
       " 'z888888',\n",
       " 'kuntz80',\n",
       " 'bencike7',\n",
       " '12345yolanda',\n",
       " 'k1k2k3k4k5k6',\n",
       " 'RqsuUsDYxNgr8T40',\n",
       " 'hasan18',\n",
       " 'ns2b0727',\n",
       " 'caramelo9',\n",
       " 'juliel009',\n",
       " '746xitEGiqObog',\n",
       " 'icap12',\n",
       " 'alchimie79',\n",
       " 'gdfn76',\n",
       " 'bozoxik602',\n",
       " '64whbrb351',\n",
       " 'meriton23',\n",
       " '64959rodro',\n",
       " 'z7zbgIDkzMQeHUd9',\n",
       " '123477889a',\n",
       " '4165000yakub',\n",
       " '1234159hero',\n",
       " 'autan88',\n",
       " '2010server',\n",
       " 'seng987321',\n",
       " 'ikanez886',\n",
       " 'teste10',\n",
       " 'weicat12',\n",
       " 'bugatti01',\n",
       " 'trabajonet9',\n",
       " 'RqsuUsDYxNgr8T40',\n",
       " 'ikanez886',\n",
       " 'clave2013',\n",
       " '838188linh',\n",
       " 'JEQuloqOFUd102',\n",
       " 'seng987321',\n",
       " 'x8512514',\n",
       " 'ninja420',\n",
       " 'il0vey0u',\n",
       " 'mmm23mm',\n",
       " 'obstacle25',\n",
       " 'sysoja794',\n",
       " 'sasuke4',\n",
       " '612035180tok',\n",
       " '20Dgw7TQ0OQVdly7',\n",
       " 'wibi182d',\n",
       " '838188linh',\n",
       " 'mike09',\n",
       " 'oscar69',\n",
       " 'sydney213',\n",
       " '4osxw4r',\n",
       " 'moimoimoi9',\n",
       " '0870330135a',\n",
       " '746xitEGiqObog',\n",
       " 'han19660120',\n",
       " 'jbtcnd6',\n",
       " 'sebax2013',\n",
       " 'bang6k',\n",
       " 'as8594505',\n",
       " 'portales1',\n",
       " 'byeypb2',\n",
       " '123nicole',\n",
       " '0VKWoODkwOAc0pZK',\n",
       " '1katertje',\n",
       " 'ns2b0727',\n",
       " 'k9b8cz6aj2',\n",
       " 'a2486315',\n",
       " 'clumsy0619',\n",
       " 'taurofive16',\n",
       " '19821010a',\n",
       " 'owote852',\n",
       " 'kyodai666',\n",
       " 'poilkjmnb987',\n",
       " 'wibi182d',\n",
       " 'sofietou74',\n",
       " 'graciela2',\n",
       " 'obstacle25',\n",
       " 'yami12',\n",
       " 'grazi0201',\n",
       " 'tim80327',\n",
       " 'xW8-3w7-MFB-CKH',\n",
       " 'kuntz80',\n",
       " 'hasan18',\n",
       " 'lsdlsd1',\n",
       " '283671gus',\n",
       " 'uou2dae',\n",
       " 'woon12',\n",
       " 'sydney213',\n",
       " 'sanjaime1',\n",
       " 'edcmki90',\n",
       " 'balamuc123',\n",
       " 'hisnipes1',\n",
       " 'RPFUOUDQwMwVW0AS',\n",
       " 'cigicigi123',\n",
       " 'mmm23mm',\n",
       " 'jalingo1',\n",
       " 'kino3434',\n",
       " 'icap12',\n",
       " 'owote852',\n",
       " 'faranumar91',\n",
       " 'juliana19',\n",
       " 'meopvywk628',\n",
       " '2yz4ewwg',\n",
       " 'kenneth610',\n",
       " 'mohantra1',\n",
       " '0870330135a',\n",
       " 'hosna1368',\n",
       " 'edcmki90',\n",
       " 'grazi0201',\n",
       " 'tucagu356',\n",
       " 'yk530mg8',\n",
       " 'control9',\n",
       " 'beijing168',\n",
       " 'yy4129',\n",
       " '64whbrb351',\n",
       " 'cristiano7',\n",
       " '1qa2ws3ed4rf',\n",
       " 'barra23',\n",
       " 'abizar08',\n",
       " 'as8594505',\n",
       " 'aslpls2009',\n",
       " 'Staterkom20081993',\n",
       " '1234159hero',\n",
       " 'sono11',\n",
       " 'khaled12',\n",
       " 'warriors08',\n",
       " '0870330135a',\n",
       " 'woon12',\n",
       " 'gtlek',\n",
       " '283671gus',\n",
       " 'lofebop480',\n",
       " 'patty94',\n",
       " '1qa2ws3ed4r',\n",
       " 'WUt9IZzE0OQ7PkNE',\n",
       " 'gtlek',\n",
       " 'ppnyadam09',\n",
       " 'qn5xpg3k00',\n",
       " 'xp;ysmybst',\n",
       " 'adminmao888',\n",
       " 'iwaguh884',\n",
       " 'Oshity07142014',\n",
       " 'holamundo1',\n",
       " '101010hadis',\n",
       " 'shotiko18',\n",
       " 'shotiko18',\n",
       " 'poilkjmnb987',\n",
       " 'ajyrew547',\n",
       " 'j09000',\n",
       " 'pablo321159',\n",
       " 'kVczcljg4OA25Aeb',\n",
       " 'woogee04',\n",
       " 'patri1973',\n",
       " 'Herzberg@ABBOTT33656888commerce',\n",
       " 'pugceya468',\n",
       " 'aslanmarco007',\n",
       " 'xanyrum650',\n",
       " 'qn5xpg3k00',\n",
       " 'virush1n1',\n",
       " 'trabajonet9',\n",
       " 'tia150979',\n",
       " 'vuqADUSatAJO800',\n",
       " 'zcsntdmhe098',\n",
       " 'h1h2h3h4h5',\n",
       " 'oatcake87',\n",
       " 'novelia21',\n",
       " 'PEPITO00',\n",
       " 'wxS2ztDk4OATjBfI',\n",
       " 'faisal213',\n",
       " 'wasanun13',\n",
       " '248sUqiFEJuRag',\n",
       " 'sysoja794',\n",
       " 'Scipio21152030067254',\n",
       " 'jsm159167',\n",
       " 'tia150979',\n",
       " 'Oshity07142014',\n",
       " 'gkrqjs6',\n",
       " 'sanjaime1',\n",
       " 'pekai2004',\n",
       " 'vehat387',\n",
       " 'universe2908',\n",
       " 'balamuc123',\n",
       " 'polo2014',\n",
       " 'ycqtgdso3',\n",
       " 'olmaz.',\n",
       " 'yzxwvgbdu503',\n",
       " 'cerner09',\n",
       " 'elyass15@ajilent-ci',\n",
       " 'puegwajy416',\n",
       " '0169395484a',\n",
       " 'sasuke4',\n",
       " 'g3rappa',\n",
       " 'qopybuxi2',\n",
       " 'afs34214',\n",
       " 'j09000',\n",
       " 'isqizkg1',\n",
       " 'aslanmarco007',\n",
       " '2863e00016',\n",
       " 'taiga0088',\n",
       " 'bjolgvhs69',\n",
       " 'mark11',\n",
       " 'tomas7896',\n",
       " 'go7kew7a2po',\n",
       " 'vietnga92',\n",
       " 'yitbos77',\n",
       " 'barboza221294',\n",
       " 'owote852',\n",
       " 'universe2908',\n",
       " '1justogax',\n",
       " 'taccy12',\n",
       " 'koabcswzt3',\n",
       " '4osxw4r',\n",
       " 'ocadezi586',\n",
       " 'synyxyr723',\n",
       " 'sysoja794',\n",
       " 'deryxi704',\n",
       " 'faisal213',\n",
       " 'parvizrus13',\n",
       " 'sbnivetha123',\n",
       " 'patri1973',\n",
       " 'meriton23',\n",
       " 'laedbchsx687',\n",
       " 'kswa2mrv',\n",
       " 'IRZA98',\n",
       " 'galoucura1',\n",
       " 'raykuaz32',\n",
       " '6yy6yy',\n",
       " 'servbot88',\n",
       " 'schalke04',\n",
       " 'DTUQG5jU5MwmR1L9',\n",
       " 'exusop649',\n",
       " 'mashhood_afzal21087',\n",
       " 'kXzWOozU2MQ1Jv1h',\n",
       " '0870330135a',\n",
       " 'matiz4533',\n",
       " 'ldteugao6',\n",
       " 'gutergut599',\n",
       " '215466kenyi',\n",
       " 'kyxvufl37',\n",
       " 'gedu1t1ah',\n",
       " 'moken7',\n",
       " 'eth36498',\n",
       " '2021848709.',\n",
       " '600eretz',\n",
       " 'iubat09',\n",
       " 'igejasy712',\n",
       " 'ikanez886',\n",
       " 'hisnipes1',\n",
       " 'RqsuUsDYxNgr8T40',\n",
       " 'pardalgg5',\n",
       " 'kyodai666',\n",
       " 'yk530mg8',\n",
       " 'umetic21',\n",
       " 'ram@!sita15392',\n",
       " 'barboza221294',\n",
       " 'poseidon2011',\n",
       " 'juliel009',\n",
       " 'lugerp08',\n",
       " 'carla99',\n",
       " 'gozv3e5',\n",
       " 'mohantra1',\n",
       " 'yqugu927',\n",
       " 'd04m11',\n",
       " 'hotdog20',\n",
       " 'IRZA98',\n",
       " '1991vikash',\n",
       " 'laedbchsx687',\n",
       " 'go7kew7a2po',\n",
       " 'zu20081965',\n",
       " '19821010a',\n",
       " 'control9',\n",
       " 'holamundo1',\n",
       " 'c1brb3lt',\n",
       " '929865yt',\n",
       " 'jesmond26',\n",
       " 'taiga0088',\n",
       " 'z7zbgIDkzMQeHUd9',\n",
       " 'cyborged69',\n",
       " 'xanyrum650',\n",
       " 'Iamthelegend1!',\n",
       " 'kikeq102',\n",
       " 'pukiw102',\n",
       " 'khaled12',\n",
       " '5gzj5uf',\n",
       " 'weicat12',\n",
       " 'uziwocy148',\n",
       " 'BZVQZBTM1MApRV7s',\n",
       " 'DTUQG5jU5MwmR1L9',\n",
       " '600eretz',\n",
       " 'raykuaz32',\n",
       " 'ns2b0727',\n",
       " 'kzde5577',\n",
       " 'xiau5ff',\n",
       " 'gandhi8513',\n",
       " 'bencike7',\n",
       " 'Staterkom20081993',\n",
       " 'jeeves123',\n",
       " 'cifinew817',\n",
       " 'sergius1964',\n",
       " 'VMjz4eTkxNAbOyUU',\n",
       " 'nK0yKXTU0NQHZE2e',\n",
       " 'kXzWOozU2MQ1Jv1h',\n",
       " 'v10rica',\n",
       " 'spl51190595',\n",
       " 'asgaliu11',\n",
       " 'moimoimoi9',\n",
       " 'cifinew817',\n",
       " 'regodib479',\n",
       " '26522876p',\n",
       " '4fqa52vecr',\n",
       " 'metopelo1623',\n",
       " 'natalia12',\n",
       " 'hasan18',\n",
       " 'markama10',\n",
       " '0112358mayin0',\n",
       " '4fqa52vecr',\n",
       " 'arigato3',\n",
       " 'kswa2mrv',\n",
       " 'juliel009',\n",
       " 'afs34214',\n",
       " 'faranumar91',\n",
       " 'h1h2h3h4h5',\n",
       " 'ykfums1',\n",
       " '3f5xd41l0ik7',\n",
       " 'ok>bdk',\n",
       " 'xp;ysmybst',\n",
       " 'khmer100.03278&?><Mnb',\n",
       " 'elyass15@ajilent-ci',\n",
       " 'pass0port',\n",
       " 'iwaguh884',\n",
       " '1w2e3s4l5e6y',\n",
       " '0847440744z',\n",
       " 'luthien123',\n",
       " 'cyborged69',\n",
       " 'wycinu436',\n",
       " 'fnmsdha476',\n",
       " '090mca090',\n",
       " 'mark11',\n",
       " 'fbjurcd961',\n",
       " 'seeyouagain1',\n",
       " 'acgyj188',\n",
       " 'keithar1',\n",
       " 'acetita478',\n",
       " 'LypOJUfuLYrO477',\n",
       " 'gutergut599',\n",
       " 'hasan18',\n",
       " 'x57669',\n",
       " 'rrilni1747',\n",
       " 'terrassa6',\n",
       " 'ejeko677',\n",
       " 'z7zbgIDkzMQeHUd9',\n",
       " 'mustang337',\n",
       " 'teemteem97',\n",
       " '19840510kkk1',\n",
       " 'kate13',\n",
       " 'ydd45ee',\n",
       " 'deivid1991',\n",
       " '1ngaymuadong',\n",
       " 'l4torr3',\n",
       " 'krumbul123',\n",
       " 'hotdog20',\n",
       " 'ekufite742',\n",
       " 'pizxmwaos537',\n",
       " 'eth36498',\n",
       " 'atigi839',\n",
       " '123456rajput',\n",
       " 'snolyuj04',\n",
       " 'olmaz.',\n",
       " 'cerner09',\n",
       " 'pr0f1s10',\n",
       " 'pekai2004',\n",
       " '8g8x2su3',\n",
       " 'evivad588',\n",
       " 'idofo673',\n",
       " 'ajyrew547',\n",
       " 'tamanagung6',\n",
       " '5874813o',\n",
       " 'sofietou74',\n",
       " 'azizi120583',\n",
       " 'klara-tershina3H',\n",
       " 'wibi182d',\n",
       " 'zoblin80',\n",
       " 'vuqADUSatAJO800',\n",
       " 'labarge1',\n",
       " 'ass359',\n",
       " 'il0vey0u',\n",
       " 'finisterra1',\n",
       " 'oioo9og',\n",
       " 'mussuh4',\n",
       " 'mmm23mm',\n",
       " 'zgmfnwuq25',\n",
       " 'tspirits08',\n",
       " 'aqyba894',\n",
       " 'mzhrmir786',\n",
       " 'enziitoo1234',\n",
       " 'marita1',\n",
       " 'ezekiel720',\n",
       " 'tim80327',\n",
       " 'regodib479',\n",
       " 'shH3t7TcyOQwKRLt',\n",
       " 'vuqADUSatAJO800',\n",
       " 'ilonu497',\n",
       " 'uziwocy148',\n",
       " 'sbl571017',\n",
       " 'growerz543',\n",
       " 'X9WVojjE4MgVAIiR',\n",
       " 'whosdabest1',\n",
       " 'tspirits08',\n",
       " 'nLIGyhTU1NQTAp6u',\n",
       " 'xve33ea',\n",
       " 'vehat387',\n",
       " 'taccy12',\n",
       " 'DRAGON25',\n",
       " 'vardhan19',\n",
       " 'robot425',\n",
       " 'change201',\n",
       " 'qwekl12',\n",
       " 'omakiva153',\n",
       " 'osimeytju12',\n",
       " 'fbjurcd961',\n",
       " 'sun4shine76',\n",
       " 'holamundo1',\n",
       " '69556236gu',\n",
       " 'a03242241431a',\n",
       " 'ebogel225',\n",
       " 'pardalgg5',\n",
       " 'mazdarx7',\n",
       " 'falre1524',\n",
       " 'mmm23mm',\n",
       " 'overlord3127',\n",
       " 's9830950044',\n",
       " 'asakapa22',\n",
       " 'ts34a3fodh3i',\n",
       " '210496av',\n",
       " 'mndzbqkv651',\n",
       " '1justogax',\n",
       " 'sun4shine76',\n",
       " 'b98nwtpriyesh',\n",
       " 'ppnyadam09',\n",
       " 'coy29061994',\n",
       " '123456rajput',\n",
       " 'ebogel225',\n",
       " 'WUt9IZzE0OQ7PkNE',\n",
       " 'khaled12',\n",
       " '4165000yakub',\n",
       " '241189dumai',\n",
       " 'terrassa6',\n",
       " '20010509wang',\n",
       " 'folashade1',\n",
       " 'keithcutlip99',\n",
       " 'nK0yKXTU0NQHZE2e',\n",
       " 'czuodhj972',\n",
       " 'moimoimoi9',\n",
       " 'kenyu001',\n",
       " 'naseKoBUMIg295',\n",
       " '123maxbala',\n",
       " '0169395484a',\n",
       " 'mndzbqkv651',\n",
       " 'juliel009',\n",
       " 'uoaef06gfqeb',\n",
       " 'hodaq103',\n",
       " 'iacool99',\n",
       " 'control9',\n",
       " 'jekkmoeder>',\n",
       " 'senghong2009',\n",
       " 'elyass15@ajilent-ci',\n",
       " 'WUt9IZzE0OQ7PkNE',\n",
       " 'Zanekurosak10%',\n",
       " 'woaini0',\n",
       " '631ihOZogELoVap',\n",
       " 'kah4544875',\n",
       " 'X34y2CzY5MACs6kp',\n",
       " 'juliana19',\n",
       " 'Herzberg@ABBOTT33656888commerce',\n",
       " '838188linh',\n",
       " 'gtlek',\n",
       " 'z3ro1sm',\n",
       " 'mike09',\n",
       " 'vietnga92',\n",
       " 'hamqrc6',\n",
       " '5874813o',\n",
       " 'kong0074',\n",
       " 'peluchin4',\n",
       " 'labarge1',\n",
       " 'vehat387',\n",
       " 'ycqtgdso3',\n",
       " '5874813o',\n",
       " 'adfbwrnt4',\n",
       " 'cdann123',\n",
       " 'pazzini24',\n",
       " 'sun4shine76',\n",
       " 'falre1524',\n",
       " '1245386fj',\n",
       " 'fr8OClDY1MAdEhHa',\n",
       " 'mickael12',\n",
       " 'vestax25',\n",
       " '4fqa52vecr',\n",
       " 'diarie1',\n",
       " 'kswa2mrv',\n",
       " '1satguru1',\n",
       " 'owote852',\n",
       " 'p2share',\n",
       " 'hisnipes1',\n",
       " 'peluchin4',\n",
       " '7l1hu1xa',\n",
       " 'sanki1',\n",
       " 'kdl9cl53',\n",
       " 'matha81',\n",
       " 'X9WVojjE4MgVAIiR',\n",
       " 'hello2104',\n",
       " 'Jovan13lovekenthjusvan4ever',\n",
       " 'L2i2ZwTg1MQajeBm',\n",
       " '1k9izx',\n",
       " 'groster152',\n",
       " 'acgyj188',\n",
       " 'gdfn76',\n",
       " 'szdectoj2',\n",
       " 'lzhzad1989',\n",
       " 'overlord3127',\n",
       " 'up8444',\n",
       " 'oatcake87',\n",
       " 'vmdo3i',\n",
       " 'uuuu123',\n",
       " 'k9b8cz6aj2',\n",
       " 'ycqtgdso3',\n",
       " 'gozv3e5',\n",
       " 'lancer319',\n",
       " 'jalal123456',\n",
       " 'vietnga92',\n",
       " 'autan88',\n",
       " 'hide68',\n",
       " 'patri1973',\n",
       " 'mxvurqyws5',\n",
       " 'memjan123',\n",
       " 'lugerp08',\n",
       " '123nicole',\n",
       " 'h3ndr4',\n",
       " 'damyvo114',\n",
       " 'alhama11408',\n",
       " 'hlQ8gDTExMQWkeda',\n",
       " 'speedracer10',\n",
       " 'kswa2mrv',\n",
       " 'sex1353245',\n",
       " 'gjm666',\n",
       " 'fahad123',\n",
       " 'maulana79',\n",
       " 'sukkur1',\n",
       " '123456ts',\n",
       " 'kciseba24521',\n",
       " '3f5xd41l0ik7',\n",
       " 'olumide1',\n",
       " 'mosad999',\n",
       " 'woon12',\n",
       " '123477889a',\n",
       " 's4m2dx9e6',\n",
       " 'c1brb3lt',\n",
       " 'szdectoj2',\n",
       " 'cdann123',\n",
       " 'kzde5577',\n",
       " 'yilmaz070',\n",
       " 'kabrito1',\n",
       " 'gopal8420',\n",
       " 'frhnsvelhfr1',\n",
       " 'xanyrum650',\n",
       " 'trust123',\n",
       " 'tollak123',\n",
       " 'yhigkenj5',\n",
       " 'nebunule2',\n",
       " 'elyass15@ajilent-ci',\n",
       " '101010hadis',\n",
       " 'butisugo39',\n",
       " 'gutergut599',\n",
       " 'v1s2c3456',\n",
       " 'zedika521',\n",
       " 'persian13223',\n",
       " '64whbrb351',\n",
       " 'zeeshanbhai1',\n",
       " 'hard7ware',\n",
       " 'w1ll1ams',\n",
       " 'ukyzopi369',\n",
       " '13bola',\n",
       " 'a1233210',\n",
       " 'ivanxl33t010',\n",
       " 'sqsn7a9',\n",
       " '1qa2ws3ed4r',\n",
       " 'yhigkenj5',\n",
       " 'vocal0619',\n",
       " 'whosdabest1',\n",
       " 'hylefup708',\n",
       " 'lugerp08',\n",
       " 'keithcutlip99',\n",
       " 'y75oak7b',\n",
       " 'kaiden12',\n",
       " 'chiefwanker1',\n",
       " 'sebax2013',\n",
       " 'onurb1994',\n",
       " 'raykuaz32',\n",
       " 'asgaliu11',\n",
       " '7mV0pKTA3MgHy8Jv',\n",
       " 'hotdog20',\n",
       " 'hlQ8gDTExMQWkeda',\n",
       " 'ilonu497',\n",
       " 'kdl9cl53',\n",
       " 'mmm23mm',\n",
       " 'jbtcnd6',\n",
       " 'afavin964',\n",
       " 'c1brb3lt',\n",
       " 'designer1206',\n",
       " '123net123',\n",
       " 'alchimie79',\n",
       " 'acetita478',\n",
       " 'pekai2004',\n",
       " 'taurofive16',\n",
       " 'pmcm110118008',\n",
       " 'prisonbreak1',\n",
       " 'TyWM72UNEex8Q8Y',\n",
       " 'zuryvu986',\n",
       " '1katertje',\n",
       " 'sknq7m0',\n",
       " 'faisal213',\n",
       " 'nebunule2',\n",
       " ...]"
      ]
     },
     "execution_count": 27,
     "metadata": {},
     "output_type": "execute_result"
    }
   ],
   "source": [
    "# Lets check passwords\n",
    "\n",
    "X"
   ]
  },
  {
   "cell_type": "code",
   "execution_count": 28,
   "metadata": {},
   "outputs": [
    {
     "data": {
      "text/plain": [
       "list"
      ]
     },
     "execution_count": 28,
     "metadata": {},
     "output_type": "execute_result"
    }
   ],
   "source": [
    "type(X)"
   ]
  },
  {
   "cell_type": "code",
   "execution_count": null,
   "metadata": {},
   "outputs": [],
   "source": []
  },
  {
   "cell_type": "code",
   "execution_count": 29,
   "metadata": {},
   "outputs": [],
   "source": [
    "# Converting Words into Characters\n",
    "\n",
    "def make_chars(inputs):\n",
    "    characters=[]\n",
    "    for letter in inputs:\n",
    "        characters.append(letter)\n",
    "    return characters"
   ]
  },
  {
   "cell_type": "code",
   "execution_count": 30,
   "metadata": {},
   "outputs": [
    {
     "data": {
      "text/plain": [
       "['T', 'I', 'M', 'E', ' ', 'W', 'H', 'I', 'S', 'P', 'E', 'R', 'S']"
      ]
     },
     "execution_count": 30,
     "metadata": {},
     "output_type": "execute_result"
    }
   ],
   "source": [
    "make_chars(\"TIME WHISPERS\")"
   ]
  },
  {
   "cell_type": "code",
   "execution_count": null,
   "metadata": {},
   "outputs": [],
   "source": []
  },
  {
   "cell_type": "code",
   "execution_count": 31,
   "metadata": {},
   "outputs": [],
   "source": [
    "# Making an instance for TfidfVectorizer\n",
    "# Tfidf stands for Term Frequency and Inverse Document Frequency\n",
    "\n",
    "vectorizer = TfidfVectorizer(tokenizer = make_chars)"
   ]
  },
  {
   "cell_type": "code",
   "execution_count": 32,
   "metadata": {},
   "outputs": [],
   "source": [
    "X_ = vectorizer.fit_transform(X)"
   ]
  },
  {
   "cell_type": "code",
   "execution_count": 33,
   "metadata": {},
   "outputs": [
    {
     "data": {
      "text/plain": [
       "(669639, 133)"
      ]
     },
     "execution_count": 33,
     "metadata": {},
     "output_type": "execute_result"
    }
   ],
   "source": [
    "X_.shape"
   ]
  },
  {
   "cell_type": "code",
   "execution_count": 34,
   "metadata": {
    "collapsed": true
   },
   "outputs": [
    {
     "data": {
      "text/plain": [
       "['\\x01',\n",
       " '\\x02',\n",
       " '\\x04',\n",
       " '\\x05',\n",
       " '\\x08',\n",
       " '\\x0e',\n",
       " '\\x0f',\n",
       " '\\x10',\n",
       " '\\x12',\n",
       " '\\x13',\n",
       " '\\x16',\n",
       " '\\x17',\n",
       " '\\x18',\n",
       " '\\x19',\n",
       " '\\x1b',\n",
       " '\\x1c',\n",
       " '\\x1d',\n",
       " '\\x1e',\n",
       " ' ',\n",
       " '!',\n",
       " '\"',\n",
       " '#',\n",
       " '$',\n",
       " '%',\n",
       " '&',\n",
       " '(',\n",
       " ')',\n",
       " '*',\n",
       " '+',\n",
       " '-',\n",
       " '.',\n",
       " '/',\n",
       " '0',\n",
       " '1',\n",
       " '2',\n",
       " '3',\n",
       " '4',\n",
       " '5',\n",
       " '6',\n",
       " '7',\n",
       " '8',\n",
       " '9',\n",
       " ';',\n",
       " '<',\n",
       " '=',\n",
       " '>',\n",
       " '?',\n",
       " '@',\n",
       " '[',\n",
       " '\\\\',\n",
       " ']',\n",
       " '^',\n",
       " '_',\n",
       " '`',\n",
       " 'a',\n",
       " 'b',\n",
       " 'c',\n",
       " 'd',\n",
       " 'e',\n",
       " 'f',\n",
       " 'g',\n",
       " 'h',\n",
       " 'i',\n",
       " 'j',\n",
       " 'k',\n",
       " 'l',\n",
       " 'm',\n",
       " 'n',\n",
       " 'o',\n",
       " 'p',\n",
       " 'q',\n",
       " 'r',\n",
       " 's',\n",
       " 't',\n",
       " 'u',\n",
       " 'v',\n",
       " 'w',\n",
       " 'x',\n",
       " 'y',\n",
       " 'z',\n",
       " '{',\n",
       " '|',\n",
       " '}',\n",
       " '~',\n",
       " '\\x7f',\n",
       " '\\x81',\n",
       " '\\xa0',\n",
       " '¡',\n",
       " '¦',\n",
       " '¨',\n",
       " '«',\n",
       " '¯',\n",
       " '°',\n",
       " '±',\n",
       " '²',\n",
       " '³',\n",
       " '´',\n",
       " 'µ',\n",
       " '¶',\n",
       " '·',\n",
       " '¹',\n",
       " 'º',\n",
       " '»',\n",
       " '¼',\n",
       " '¾',\n",
       " '¿',\n",
       " 'ß',\n",
       " 'à',\n",
       " 'á',\n",
       " 'â',\n",
       " 'ä',\n",
       " 'å',\n",
       " 'æ',\n",
       " 'è',\n",
       " 'ê',\n",
       " 'í',\n",
       " 'ï',\n",
       " 'ð',\n",
       " 'ñ',\n",
       " 'ò',\n",
       " 'ó',\n",
       " 'ô',\n",
       " 'õ',\n",
       " 'ö',\n",
       " '÷',\n",
       " 'ù',\n",
       " 'ú',\n",
       " 'û',\n",
       " 'ý',\n",
       " 'þ',\n",
       " 'ÿ',\n",
       " '‚',\n",
       " '…']"
      ]
     },
     "execution_count": 34,
     "metadata": {},
     "output_type": "execute_result"
    }
   ],
   "source": [
    "vectorizer.get_feature_names()"
   ]
  },
  {
   "cell_type": "code",
   "execution_count": 35,
   "metadata": {},
   "outputs": [
    {
     "data": {
      "text/plain": [
       "<1x133 sparse matrix of type '<class 'numpy.float64'>'\n",
       "\twith 6 stored elements in Compressed Sparse Row format>"
      ]
     },
     "execution_count": 35,
     "metadata": {},
     "output_type": "execute_result"
    }
   ],
   "source": [
    "# As an output we will be getting sparse matrix and sparse matrix is mostly of zeros\n",
    "\n",
    "X_[0]"
   ]
  },
  {
   "cell_type": "code",
   "execution_count": 36,
   "metadata": {},
   "outputs": [],
   "source": [
    "first_ = X_[0].T.todense()"
   ]
  },
  {
   "cell_type": "code",
   "execution_count": 37,
   "metadata": {},
   "outputs": [],
   "source": [
    "vec = pd.DataFrame(first_,index=vectorizer.get_feature_names(), columns = ['tfidf'])"
   ]
  },
  {
   "cell_type": "code",
   "execution_count": 38,
   "metadata": {},
   "outputs": [
    {
     "data": {
      "text/html": [
       "<div>\n",
       "<style scoped>\n",
       "    .dataframe tbody tr th:only-of-type {\n",
       "        vertical-align: middle;\n",
       "    }\n",
       "\n",
       "    .dataframe tbody tr th {\n",
       "        vertical-align: top;\n",
       "    }\n",
       "\n",
       "    .dataframe thead th {\n",
       "        text-align: right;\n",
       "    }\n",
       "</style>\n",
       "<table border=\"1\" class=\"dataframe\">\n",
       "  <thead>\n",
       "    <tr style=\"text-align: right;\">\n",
       "      <th></th>\n",
       "      <th>tfidf</th>\n",
       "    </tr>\n",
       "  </thead>\n",
       "  <tbody>\n",
       "    <tr>\n",
       "      <th>\u0001</th>\n",
       "      <td>0.0</td>\n",
       "    </tr>\n",
       "    <tr>\n",
       "      <th>\u0002</th>\n",
       "      <td>0.0</td>\n",
       "    </tr>\n",
       "    <tr>\n",
       "      <th>\u0004</th>\n",
       "      <td>0.0</td>\n",
       "    </tr>\n",
       "    <tr>\n",
       "      <th>\u0005</th>\n",
       "      <td>0.0</td>\n",
       "    </tr>\n",
       "    <tr>\n",
       "      <th>\b</th>\n",
       "      <td>0.0</td>\n",
       "    </tr>\n",
       "    <tr>\n",
       "      <th>...</th>\n",
       "      <td>...</td>\n",
       "    </tr>\n",
       "    <tr>\n",
       "      <th>ý</th>\n",
       "      <td>0.0</td>\n",
       "    </tr>\n",
       "    <tr>\n",
       "      <th>þ</th>\n",
       "      <td>0.0</td>\n",
       "    </tr>\n",
       "    <tr>\n",
       "      <th>ÿ</th>\n",
       "      <td>0.0</td>\n",
       "    </tr>\n",
       "    <tr>\n",
       "      <th>‚</th>\n",
       "      <td>0.0</td>\n",
       "    </tr>\n",
       "    <tr>\n",
       "      <th>…</th>\n",
       "      <td>0.0</td>\n",
       "    </tr>\n",
       "  </tbody>\n",
       "</table>\n",
       "<p>133 rows × 1 columns</p>\n",
       "</div>"
      ],
      "text/plain": [
       "    tfidf\n",
       "\u0001     0.0\n",
       "\u0002     0.0\n",
       "\u0004     0.0\n",
       "\u0005     0.0\n",
       "\b     0.0\n",
       "..    ...\n",
       "ý     0.0\n",
       "þ     0.0\n",
       "ÿ     0.0\n",
       "‚     0.0\n",
       "…     0.0\n",
       "\n",
       "[133 rows x 1 columns]"
      ]
     },
     "execution_count": 38,
     "metadata": {},
     "output_type": "execute_result"
    }
   ],
   "source": [
    "vec"
   ]
  },
  {
   "cell_type": "code",
   "execution_count": 39,
   "metadata": {},
   "outputs": [
    {
     "data": {
      "text/html": [
       "<div>\n",
       "<style scoped>\n",
       "    .dataframe tbody tr th:only-of-type {\n",
       "        vertical-align: middle;\n",
       "    }\n",
       "\n",
       "    .dataframe tbody tr th {\n",
       "        vertical-align: top;\n",
       "    }\n",
       "\n",
       "    .dataframe thead th {\n",
       "        text-align: right;\n",
       "    }\n",
       "</style>\n",
       "<table border=\"1\" class=\"dataframe\">\n",
       "  <thead>\n",
       "    <tr style=\"text-align: right;\">\n",
       "      <th></th>\n",
       "      <th>tfidf</th>\n",
       "    </tr>\n",
       "  </thead>\n",
       "  <tbody>\n",
       "    <tr>\n",
       "      <th>7</th>\n",
       "      <td>0.591862</td>\n",
       "    </tr>\n",
       "    <tr>\n",
       "      <th>5</th>\n",
       "      <td>0.566695</td>\n",
       "    </tr>\n",
       "    <tr>\n",
       "      <th>z</th>\n",
       "      <td>0.335462</td>\n",
       "    </tr>\n",
       "    <tr>\n",
       "      <th>k</th>\n",
       "      <td>0.291954</td>\n",
       "    </tr>\n",
       "    <tr>\n",
       "      <th>d</th>\n",
       "      <td>0.285960</td>\n",
       "    </tr>\n",
       "    <tr>\n",
       "      <th>...</th>\n",
       "      <td>...</td>\n",
       "    </tr>\n",
       "    <tr>\n",
       "      <th>6</th>\n",
       "      <td>0.000000</td>\n",
       "    </tr>\n",
       "    <tr>\n",
       "      <th>4</th>\n",
       "      <td>0.000000</td>\n",
       "    </tr>\n",
       "    <tr>\n",
       "      <th>3</th>\n",
       "      <td>0.000000</td>\n",
       "    </tr>\n",
       "    <tr>\n",
       "      <th>2</th>\n",
       "      <td>0.000000</td>\n",
       "    </tr>\n",
       "    <tr>\n",
       "      <th>…</th>\n",
       "      <td>0.000000</td>\n",
       "    </tr>\n",
       "  </tbody>\n",
       "</table>\n",
       "<p>133 rows × 1 columns</p>\n",
       "</div>"
      ],
      "text/plain": [
       "       tfidf\n",
       "7   0.591862\n",
       "5   0.566695\n",
       "z   0.335462\n",
       "k   0.291954\n",
       "d   0.285960\n",
       "..       ...\n",
       "6   0.000000\n",
       "4   0.000000\n",
       "3   0.000000\n",
       "2   0.000000\n",
       "…   0.000000\n",
       "\n",
       "[133 rows x 1 columns]"
      ]
     },
     "execution_count": 39,
     "metadata": {},
     "output_type": "execute_result"
    }
   ],
   "source": [
    "vec.sort_values(by=['tfidf'],ascending=False)"
   ]
  },
  {
   "cell_type": "code",
   "execution_count": null,
   "metadata": {},
   "outputs": [],
   "source": []
  },
  {
   "cell_type": "code",
   "execution_count": 40,
   "metadata": {},
   "outputs": [],
   "source": [
    "# Now we are going to divide our data into training and testing purpose\n",
    "\n",
    "x_train, x_test, y_train, y_test = train_test_split(X_, y, test_size=0.27, random_state=42)"
   ]
  },
  {
   "cell_type": "code",
   "execution_count": 41,
   "metadata": {},
   "outputs": [
    {
     "data": {
      "text/plain": [
       "((488836, 133), (180803, 133))"
      ]
     },
     "execution_count": 41,
     "metadata": {},
     "output_type": "execute_result"
    }
   ],
   "source": [
    "x_train.shape,x_test.shape"
   ]
  },
  {
   "cell_type": "code",
   "execution_count": null,
   "metadata": {},
   "outputs": [],
   "source": []
  },
  {
   "cell_type": "code",
   "execution_count": 42,
   "metadata": {},
   "outputs": [],
   "source": [
    "# Model Making\n",
    "\n",
    "from sklearn.linear_model import LogisticRegression\n",
    "import xgboost as xgb\n",
    "from sklearn.naive_bayes import MultinomialNB\n",
    "from sklearn.model_selection import cross_val_score "
   ]
  },
  {
   "cell_type": "code",
   "execution_count": null,
   "metadata": {},
   "outputs": [],
   "source": []
  },
  {
   "cell_type": "code",
   "execution_count": 43,
   "metadata": {},
   "outputs": [],
   "source": [
    "classifier = []\n",
    "classifier.append(LogisticRegression(multi_class='ovr',n_jobs=-1))\n",
    "classifier.append(LogisticRegression(multi_class='multinomial',solver='newton-cg',n_jobs=-1))\n",
    "classifier.append(xgb.XGBClassifier(n_jobs=-1))\n",
    "classifier.append(MultinomialNB())"
   ]
  },
  {
   "cell_type": "code",
   "execution_count": 44,
   "metadata": {
    "scrolled": true
   },
   "outputs": [
    {
     "data": {
      "text/plain": [
       "[LogisticRegression(multi_class='ovr', n_jobs=-1),\n",
       " LogisticRegression(multi_class='multinomial', n_jobs=-1, solver='newton-cg'),\n",
       " XGBClassifier(base_score=None, booster=None, callbacks=None,\n",
       "               colsample_bylevel=None, colsample_bynode=None,\n",
       "               colsample_bytree=None, early_stopping_rounds=None,\n",
       "               enable_categorical=False, eval_metric=None, feature_types=None,\n",
       "               gamma=None, gpu_id=None, grow_policy=None, importance_type=None,\n",
       "               interaction_constraints=None, learning_rate=None, max_bin=None,\n",
       "               max_cat_threshold=None, max_cat_to_onehot=None,\n",
       "               max_delta_step=None, max_depth=None, max_leaves=None,\n",
       "               min_child_weight=None, missing=nan, monotone_constraints=None,\n",
       "               n_estimators=100, n_jobs=-1, num_parallel_tree=None,\n",
       "               predictor=None, random_state=None, ...),\n",
       " MultinomialNB()]"
      ]
     },
     "execution_count": 44,
     "metadata": {},
     "output_type": "execute_result"
    }
   ],
   "source": [
    "classifier"
   ]
  },
  {
   "cell_type": "code",
   "execution_count": null,
   "metadata": {},
   "outputs": [],
   "source": []
  },
  {
   "cell_type": "code",
   "execution_count": 45,
   "metadata": {
    "code_folding": []
   },
   "outputs": [],
   "source": [
    "# Please be patient as this will take about two hours to compile.\n",
    "\n",
    "result = []\n",
    "for model in classifier:\n",
    "    a = model.fit(x_train,y_train)\n",
    "    result.append(a.score(x_test,y_test))"
   ]
  },
  {
   "cell_type": "code",
   "execution_count": 46,
   "metadata": {},
   "outputs": [],
   "source": [
    "result1 = pd.DataFrame({'score':result,\n",
    "                      'algorithms': ['logistic_regr_ovr',\n",
    "                                    'logistic_regr_mutinomial',\n",
    "                                    'xgboost','naive bayes']})"
   ]
  },
  {
   "cell_type": "code",
   "execution_count": 47,
   "metadata": {},
   "outputs": [
    {
     "data": {
      "text/html": [
       "<div>\n",
       "<style scoped>\n",
       "    .dataframe tbody tr th:only-of-type {\n",
       "        vertical-align: middle;\n",
       "    }\n",
       "\n",
       "    .dataframe tbody tr th {\n",
       "        vertical-align: top;\n",
       "    }\n",
       "\n",
       "    .dataframe thead th {\n",
       "        text-align: right;\n",
       "    }\n",
       "</style>\n",
       "<table border=\"1\" class=\"dataframe\">\n",
       "  <thead>\n",
       "    <tr style=\"text-align: right;\">\n",
       "      <th></th>\n",
       "      <th>score</th>\n",
       "      <th>algorithms</th>\n",
       "    </tr>\n",
       "  </thead>\n",
       "  <tbody>\n",
       "    <tr>\n",
       "      <th>0</th>\n",
       "      <td>0.814074</td>\n",
       "      <td>logistic_regr_ovr</td>\n",
       "    </tr>\n",
       "    <tr>\n",
       "      <th>1</th>\n",
       "      <td>0.820716</td>\n",
       "      <td>logistic_regr_mutinomial</td>\n",
       "    </tr>\n",
       "    <tr>\n",
       "      <th>2</th>\n",
       "      <td>0.985415</td>\n",
       "      <td>xgboost</td>\n",
       "    </tr>\n",
       "    <tr>\n",
       "      <th>3</th>\n",
       "      <td>0.743887</td>\n",
       "      <td>naive bayes</td>\n",
       "    </tr>\n",
       "  </tbody>\n",
       "</table>\n",
       "</div>"
      ],
      "text/plain": [
       "      score                algorithms\n",
       "0  0.814074         logistic_regr_ovr\n",
       "1  0.820716  logistic_regr_mutinomial\n",
       "2  0.985415                   xgboost\n",
       "3  0.743887               naive bayes"
      ]
     },
     "execution_count": 47,
     "metadata": {},
     "output_type": "execute_result"
    }
   ],
   "source": [
    "result1"
   ]
  },
  {
   "cell_type": "code",
   "execution_count": null,
   "metadata": {},
   "outputs": [],
   "source": []
  },
  {
   "cell_type": "code",
   "execution_count": 48,
   "metadata": {},
   "outputs": [
    {
     "data": {
      "image/png": "[encoded data removed]",
      "text/plain": [
       "<Figure size 576x576 with 1 Axes>"
      ]
     },
     "metadata": {
      "needs_background": "light"
     },
     "output_type": "display_data"
    }
   ],
   "source": [
    "plt.figure(figsize=(8,8))\n",
    "a=sns.barplot('score','algorithms',data=result1)\n",
    "a.set_label('accuracy')"
   ]
  },
  {
   "cell_type": "markdown",
   "metadata": {},
   "source": [
    "As we can see that XGBoost performs good for that given data"
   ]
  },
  {
   "cell_type": "code",
   "execution_count": null,
   "metadata": {},
   "outputs": [],
   "source": []
  },
  {
   "cell_type": "code",
   "execution_count": 49,
   "metadata": {},
   "outputs": [],
   "source": [
    "xgb_classifier = xgb.XGBClassifier(n_jobs=-1)"
   ]
  },
  {
   "cell_type": "code",
   "execution_count": 62,
   "metadata": {},
   "outputs": [
    {
     "data": {
      "text/plain": [
       "XGBClassifier(base_score=None, booster=None, callbacks=None,\n",
       "              colsample_bylevel=None, colsample_bynode=None,\n",
       "              colsample_bytree=None, early_stopping_rounds=None,\n",
       "              enable_categorical=False, eval_metric=None, feature_types=None,\n",
       "              gamma=None, gpu_id=None, grow_policy=None, importance_type=None,\n",
       "              interaction_constraints=None, learning_rate=None, max_bin=None,\n",
       "              max_cat_threshold=None, max_cat_to_onehot=None,\n",
       "              max_delta_step=None, max_depth=None, max_leaves=None,\n",
       "              min_child_weight=None, missing=nan, monotone_constraints=None,\n",
       "              n_estimators=100, n_jobs=-1, num_parallel_tree=None,\n",
       "              objective='multi:softprob', predictor=None, ...)"
      ]
     },
     "execution_count": 62,
     "metadata": {},
     "output_type": "execute_result"
    }
   ],
   "source": [
    "# Please be patient as this will take about two hours to compile.\n",
    "\n",
    "xgb_classifier.fit(x_train,y_train)"
   ]
  },
  {
   "cell_type": "code",
   "execution_count": null,
   "metadata": {},
   "outputs": [],
   "source": []
  },
  {
   "cell_type": "code",
   "execution_count": 63,
   "metadata": {},
   "outputs": [],
   "source": [
    "pred = xgb_classifier.predict(x_test)"
   ]
  },
  {
   "cell_type": "code",
   "execution_count": null,
   "metadata": {},
   "outputs": [],
   "source": []
  },
  {
   "cell_type": "code",
   "execution_count": 64,
   "metadata": {},
   "outputs": [
    {
     "data": {
      "text/plain": [
       "array([[ 22985,   1142,      0],\n",
       "       [   760, 133352,    204],\n",
       "       [     2,    529,  21829]])"
      ]
     },
     "execution_count": 64,
     "metadata": {},
     "output_type": "execute_result"
    }
   ],
   "source": [
    "confusion_matrix(y_test,pred)"
   ]
  },
  {
   "cell_type": "code",
   "execution_count": 65,
   "metadata": {},
   "outputs": [
    {
     "name": "stdout",
     "output_type": "stream",
     "text": [
      "              precision    recall  f1-score   support\n",
      "\n",
      "           0       0.97      0.95      0.96     24127\n",
      "           1       0.99      0.99      0.99    134316\n",
      "           2       0.99      0.98      0.98     22360\n",
      "\n",
      "    accuracy                           0.99    180803\n",
      "   macro avg       0.98      0.97      0.98    180803\n",
      "weighted avg       0.99      0.99      0.99    180803\n",
      "\n"
     ]
    }
   ],
   "source": [
    "print(classification_report(y_test,pred))"
   ]
  },
  {
   "cell_type": "code",
   "execution_count": null,
   "metadata": {},
   "outputs": [],
   "source": []
  },
  {
   "cell_type": "code",
   "execution_count": 66,
   "metadata": {},
   "outputs": [],
   "source": [
    "import dill\n",
    "model_file=open(\"xgb_classifier.pkl\",\"wb\")\n",
    "dill.dump(xgb_classifier,model_file)\n",
    "model_file.close()"
   ]
  },
  {
   "cell_type": "code",
   "execution_count": 67,
   "metadata": {},
   "outputs": [],
   "source": [
    "dill.dump(vectorizer, open(\"vectorizer.pkl\", \"wb\"))"
   ]
  },
  {
   "cell_type": "code",
   "execution_count": 119,
   "metadata": {},
   "outputs": [],
   "source": [
    "# Testing the password strength\n",
    "\n",
    "password = \"sBHadsY@1LKJKH%1\""
   ]
  },
  {
   "cell_type": "code",
   "execution_count": 120,
   "metadata": {},
   "outputs": [],
   "source": [
    "password = vectorizer.transform([password])"
   ]
  },
  {
   "cell_type": "code",
   "execution_count": 121,
   "metadata": {},
   "outputs": [
    {
     "data": {
      "text/plain": [
       "array([2])"
      ]
     },
     "execution_count": 121,
     "metadata": {},
     "output_type": "execute_result"
    }
   ],
   "source": [
    "# 0 denotes weak\n",
    "# 1 denotes normal\n",
    "# 2 denotes strong\n",
    "\n",
    "xgb_classifier.predict(password)"
   ]
  },
  {
   "cell_type": "code",
   "execution_count": null,
   "metadata": {},
   "outputs": [],
   "source": []
  },
  {
   "cell_type": "code",
   "execution_count": 122,
   "metadata": {},
   "outputs": [],
   "source": [
    "# Prediciting the probability\n",
    "\n",
    "a = xgb_classifier.predict_proba(password)"
   ]
  },
  {
   "cell_type": "code",
   "execution_count": 123,
   "metadata": {},
   "outputs": [
    {
     "data": {
      "text/plain": [
       "array([[1.2597349e-05, 1.6435471e-01, 8.3563268e-01]], dtype=float32)"
      ]
     },
     "execution_count": 123,
     "metadata": {},
     "output_type": "execute_result"
    }
   ],
   "source": [
    "a"
   ]
  },
  {
   "cell_type": "code",
   "execution_count": 124,
   "metadata": {},
   "outputs": [
    {
     "data": {
      "text/plain": [
       "0.16435471"
      ]
     },
     "execution_count": 124,
     "metadata": {},
     "output_type": "execute_result"
    }
   ],
   "source": [
    "a[0][1]"
   ]
  },
  {
   "cell_type": "code",
   "execution_count": null,
   "metadata": {},
   "outputs": [],
   "source": []
  },
  {
   "cell_type": "code",
   "execution_count": null,
   "metadata": {},
   "outputs": [],
   "source": []
  }
 ],
 "metadata": {
  "language_info": {
   "codemirror_mode": {
    "name": "ipython",
    "version": 3
   },
   "file_extension": ".py",
   "mimetype": "text/x-python",
   "name": "python",
   "nbconvert_exporter": "python",
   "pygments_lexer": "ipython3",
   "version": "3.9.7"
  }
 },
 "nbformat": 4,
 "nbformat_minor": 2
}